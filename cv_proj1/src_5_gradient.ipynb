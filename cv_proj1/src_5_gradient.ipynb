{
  "nbformat": 4,
  "nbformat_minor": 0,
  "metadata": {
    "colab": {
      "name": "src_5_gradient.ipynb",
      "provenance": [],
      "collapsed_sections": []
    },
    "kernelspec": {
      "name": "python3",
      "display_name": "Python 3"
    },
    "language_info": {
      "name": "python"
    }
  },
  "cells": [
    {
      "cell_type": "code",
      "execution_count": null,
      "metadata": {
        "id": "NNOmZt32KVgi"
      },
      "outputs": [],
      "source": [
        "import cv2\n",
        "import os\n",
        "import math\n",
        "from matplotlib import pyplot as plt\n",
        "import numpy as np\n",
        "from skimage.io import imread\n",
        "from skimage.transform import resize\n",
        "from skimage.feature import hog\n",
        "from skimage.color import rgb2gray\n",
        "import matplotlib.pyplot as plt\n",
        "import imutils\n",
        "count = 0\n",
        "orient = 32\n",
        "th = 0.2\n",
        "img1_point_list = list()\n",
        "img2_point_list = list()\n",
        "hist1_dict = dict()\n",
        "hist2_dict = dict()\n",
        "hist1_res = dict()\n",
        "hist2_res = dict()\n",
        "for i in range(orient):\n",
        "  hist1_dict[i]=0\n",
        "  hist2_dict[i]=0\n",
        "# step3. 히스토그램 비교하면서 distance 계산하기 (img1의 4개의 점에 대해, img2에 모두의 점만 비교하면됨)\n",
        "final_result = dict()\n",
        "kernel = np.ones((9,9), np.uint8)\n",
        "for file_nm_1 in os.listdir('./data/crop1/') :\n",
        "    hist1_dict = dict()\n",
        "    for i in range(orient):\n",
        "      hist1_dict[i]=0\n",
        "    if '.png' in file_nm_1 : \n",
        "        file_path_1 = os.path.join('./data/crop1/', file_nm_1)\n",
        "        \n",
        "\n",
        "        img1 = imread(file_path_1)\n",
        "        img1 = cv2.cvtColor(img1, cv2.COLOR_RGB2GRAY)\n",
        "        img1 = cv2.resize(img1, dsize=(100,100)).astype(np.uint8)\n",
        "        \n",
        "        img1 = cv2.equalizeHist(img1)\n",
        "        img1 = cv2.morphologyEx(img1, cv2.MORPH_OPEN, kernel)\n",
        "        # img1 = cv2.threshold(img1, 50, 255 , cv2.THRESH_BINARY)\n",
        "        fd, hog_image = hog(img1, orientations=orient, pixels_per_cell=(11, 11),cells_per_block=(7, 7), visualize=True, block_norm='L2')\n",
        "\n",
        "        for idx, val in enumerate(fd):\n",
        "          if val >= th:\n",
        "            hist1_dict[(idx%orient)]+=1\n",
        "        \n",
        "        # plt.bar(list(hist1_dict.keys()), hist1_dict.values(), color='g')\n",
        "        # plt.show()\n",
        "        hist1_res[file_nm_1] = hist1_dict\n",
        "    else :\n",
        "        continue\n",
        "data2_dir = './data/crop2/'\n",
        "for file_nm_2 in os.listdir(data2_dir) :\n",
        "    \n",
        "    hist2_dict = dict()\n",
        "    for i in range(orient):\n",
        "      hist2_dict[i]=0\n",
        "    if '.png' in file_nm_2 :\n",
        "        file_path = os.path.join(data2_dir, file_nm_2)\n",
        "        img = imread(file_path)\n",
        "        img = imutils.rotate(img, 45)  \n",
        "        img = cv2.cvtColor(img, cv2.COLOR_RGB2GRAY)\n",
        "        img = cv2.resize(img, dsize=(100,100)).astype(np.uint8)\n",
        "        img = cv2.equalizeHist(img)\n",
        "        img = cv2.morphologyEx(img, cv2.MORPH_OPEN, kernel)\n",
        "        # img = cv2.threshold(img, 50,255 , cv2.THRESH_BINARY)\n",
        "        fd, hog_image = hog(img, orientations=orient, pixels_per_cell=(11, 11),cells_per_block=(7, 7), visualize=True, block_norm='L2')\n",
        "\n",
        "        for idx, val in enumerate(fd):\n",
        "          if val >= th:\n",
        "            hist2_dict[(idx%orient)]+=1\n",
        "        \n",
        "        # plt.bar(list(hist2_dict.keys()), hist2_dict.values(), color='g')\n",
        "        # plt.show()\n",
        "        hist2_res[file_nm_2] = hist2_dict\n",
        "    else : \n",
        "      continue\n",
        "\n"
      ]
    },
    {
      "cell_type": "code",
      "source": [
        "\n",
        "\n",
        "print(hist1_res)\n",
        "for key, val in hist1_res.items():\n",
        "  max =0\n",
        "  min =1\n",
        "  for k in val: \n",
        "    if max<val[k]:\n",
        "      max = val[k]\n",
        "    if min>val[k]:\n",
        "      min =val[k]\n",
        "  print(min, max)\n",
        "  for k in val:\n",
        "    val[k] = (val[k]-min)/(max-min)\n",
        "print(hist1_res)\n",
        "\n",
        "print(hist2_res)\n",
        "for key, val in hist2_res.items():\n",
        "  max =0\n",
        "  min =1\n",
        "  for k in val: \n",
        "    if max<val[k]:\n",
        "      max = val[k]\n",
        "    if min>val[k]:\n",
        "      min =val[k]\n",
        "  \n",
        "  for k in val:\n",
        "    val[k] = (val[k]-min)/(max-min)\n",
        "print(hist2_res)\n",
        "\n",
        "# print(hist2_res)\n",
        "# for key, val in hist2_res.items():\n",
        "#   sum =0\n",
        "#   for k in val:\n",
        "#     sum+=k\n",
        "#   factor=1.0/sum\n",
        "#   for k in val:\n",
        "#     val[k] = val[k]*factor\n",
        "# print(hist2_res)\n",
        "\n",
        "for key, val in hist1_res.items():\n",
        "  print(key)\n",
        "  plt.bar(list(val.keys()), val.values(), color='g')\n",
        "  plt.show()\n",
        "\n",
        "  plt.bar(list(hist2_res[key].keys()), hist2_res[key].values(), color='b')\n",
        "  plt.show()\n",
        "print(hist2_res)\n",
        "result = dict()\n",
        "for file_nm_1, hist1_dict in hist1_res.items() :\n",
        "  result[file_nm_1]=dict()\n",
        "  for file_nm_2, hist2_dict in hist2_res.items():\n",
        "    \n",
        "  # distance 연산\n",
        "    sum = 0\n",
        "    for i in range(orient) :\n",
        "        sum = sum + (hist1_dict[i]-hist2_dict[i]) ** 2\n",
        "\n",
        "    dist = math.sqrt(sum)\n",
        "    #print(f'-- Euclidean distance between {file_nm_1} and {file_nm_2} : ', dist)\n",
        "\n",
        "    result[file_nm_1][file_nm_2] = dist\n",
        "    # img1의 각 점에서 뭐가 매칭되는지 확인\n",
        "  \n",
        "\n",
        "print('#######################################')\n",
        "print(\"result : \", result)\n",
        "for file_nm_1, result_dict in result.items():\n",
        "\n",
        "  tmp_result_sort = sorted(result[file_nm_1].items(), key = lambda item: item[1], reverse = False)\n",
        "  print(f'-- {file_nm_1} : ', tmp_result_sort )\n",
        "  print('-- closest point : ', tmp_result_sort[0])\n",
        "\n",
        "  final_result[file_nm_1] = tmp_result_sort[0][0]\n",
        "print()\n",
        "\n",
        "# print('## Final result :', final_result)\n"
      ],
      "metadata": {
        "colab": {
          "base_uri": "https://localhost:8080/",
          "height": 1000
        },
        "id": "t71wf6exXtVE",
        "outputId": "cfa42962-fee0-4761-a0df-33ce09af3b33"
      },
      "execution_count": null,
      "outputs": [
        {
          "output_type": "stream",
          "name": "stdout",
          "text": [
            "{'1_cropped.png': {0: 9, 1: 0, 2: 0, 3: 0, 4: 0, 5: 0, 6: 0, 7: 6, 8: 0, 9: 0, 10: 0, 11: 0, 12: 0, 13: 0, 14: 0, 15: 0, 16: 23, 17: 0, 18: 0, 19: 0, 20: 0, 21: 0, 22: 0, 23: 0, 24: 1, 25: 0, 26: 0, 27: 0, 28: 0, 29: 0, 30: 0, 31: 0}, '3_cropped.png': {0: 0, 1: 0, 2: 0, 3: 0, 4: 0, 5: 0, 6: 0, 7: 7, 8: 0, 9: 0, 10: 0, 11: 0, 12: 0, 13: 0, 14: 0, 15: 0, 16: 8, 17: 0, 18: 0, 19: 0, 20: 0, 21: 0, 22: 0, 23: 3, 24: 9, 25: 0, 26: 0, 27: 0, 28: 0, 29: 0, 30: 0, 31: 0}, '2_cropped.png': {0: 16, 1: 0, 2: 0, 3: 0, 4: 0, 5: 0, 6: 0, 7: 9, 8: 9, 9: 0, 10: 0, 11: 0, 12: 0, 13: 0, 14: 0, 15: 0, 16: 9, 17: 0, 18: 0, 19: 0, 20: 0, 21: 0, 22: 0, 23: 0, 24: 0, 25: 0, 26: 0, 27: 0, 28: 0, 29: 0, 30: 0, 31: 0}, '0_cropped.png': {0: 24, 1: 0, 2: 0, 3: 0, 4: 0, 5: 0, 6: 0, 7: 0, 8: 0, 9: 0, 10: 0, 11: 0, 12: 0, 13: 0, 14: 0, 15: 0, 16: 0, 17: 0, 18: 0, 19: 0, 20: 0, 21: 0, 22: 0, 23: 0, 24: 32, 25: 0, 26: 0, 27: 0, 28: 0, 29: 0, 30: 0, 31: 0}}\n",
            "0 23\n",
            "0 9\n",
            "0 16\n",
            "0 32\n",
            "{'1_cropped.png': {0: 0.391304347826087, 1: 0.0, 2: 0.0, 3: 0.0, 4: 0.0, 5: 0.0, 6: 0.0, 7: 0.2608695652173913, 8: 0.0, 9: 0.0, 10: 0.0, 11: 0.0, 12: 0.0, 13: 0.0, 14: 0.0, 15: 0.0, 16: 1.0, 17: 0.0, 18: 0.0, 19: 0.0, 20: 0.0, 21: 0.0, 22: 0.0, 23: 0.0, 24: 0.043478260869565216, 25: 0.0, 26: 0.0, 27: 0.0, 28: 0.0, 29: 0.0, 30: 0.0, 31: 0.0}, '3_cropped.png': {0: 0.0, 1: 0.0, 2: 0.0, 3: 0.0, 4: 0.0, 5: 0.0, 6: 0.0, 7: 0.7777777777777778, 8: 0.0, 9: 0.0, 10: 0.0, 11: 0.0, 12: 0.0, 13: 0.0, 14: 0.0, 15: 0.0, 16: 0.8888888888888888, 17: 0.0, 18: 0.0, 19: 0.0, 20: 0.0, 21: 0.0, 22: 0.0, 23: 0.3333333333333333, 24: 1.0, 25: 0.0, 26: 0.0, 27: 0.0, 28: 0.0, 29: 0.0, 30: 0.0, 31: 0.0}, '2_cropped.png': {0: 1.0, 1: 0.0, 2: 0.0, 3: 0.0, 4: 0.0, 5: 0.0, 6: 0.0, 7: 0.5625, 8: 0.5625, 9: 0.0, 10: 0.0, 11: 0.0, 12: 0.0, 13: 0.0, 14: 0.0, 15: 0.0, 16: 0.5625, 17: 0.0, 18: 0.0, 19: 0.0, 20: 0.0, 21: 0.0, 22: 0.0, 23: 0.0, 24: 0.0, 25: 0.0, 26: 0.0, 27: 0.0, 28: 0.0, 29: 0.0, 30: 0.0, 31: 0.0}, '0_cropped.png': {0: 0.75, 1: 0.0, 2: 0.0, 3: 0.0, 4: 0.0, 5: 0.0, 6: 0.0, 7: 0.0, 8: 0.0, 9: 0.0, 10: 0.0, 11: 0.0, 12: 0.0, 13: 0.0, 14: 0.0, 15: 0.0, 16: 0.0, 17: 0.0, 18: 0.0, 19: 0.0, 20: 0.0, 21: 0.0, 22: 0.0, 23: 0.0, 24: 1.0, 25: 0.0, 26: 0.0, 27: 0.0, 28: 0.0, 29: 0.0, 30: 0.0, 31: 0.0}}\n",
            "{'1_cropped.png': {0: 7, 1: 0, 2: 0, 3: 0, 4: 0, 5: 0, 6: 0, 7: 6, 8: 1, 9: 0, 10: 0, 11: 0, 12: 0, 13: 0, 14: 0, 15: 0, 16: 34, 17: 0, 18: 0, 19: 0, 20: 0, 21: 0, 22: 0, 23: 0, 24: 1, 25: 0, 26: 0, 27: 0, 28: 0, 29: 0, 30: 0, 31: 0}, '3_cropped.png': {0: 5, 1: 0, 2: 0, 3: 0, 4: 0, 5: 0, 6: 0, 7: 10, 8: 4, 9: 0, 10: 0, 11: 0, 12: 0, 13: 0, 14: 0, 15: 0, 16: 11, 17: 0, 18: 0, 19: 0, 20: 0, 21: 0, 22: 0, 23: 0, 24: 12, 25: 0, 26: 0, 27: 0, 28: 0, 29: 0, 30: 0, 31: 0}, '2_cropped.png': {0: 29, 1: 0, 2: 0, 3: 0, 4: 0, 5: 0, 6: 0, 7: 0, 8: 4, 9: 0, 10: 0, 11: 0, 12: 0, 13: 0, 14: 0, 15: 0, 16: 12, 17: 0, 18: 0, 19: 0, 20: 0, 21: 0, 22: 0, 23: 7, 24: 9, 25: 0, 26: 0, 27: 0, 28: 0, 29: 0, 30: 0, 31: 0}, '0_cropped.png': {0: 16, 1: 0, 2: 0, 3: 0, 4: 0, 5: 0, 6: 0, 7: 0, 8: 10, 9: 0, 10: 0, 11: 0, 12: 0, 13: 0, 14: 0, 15: 0, 16: 10, 17: 0, 18: 0, 19: 0, 20: 0, 21: 0, 22: 0, 23: 2, 24: 24, 25: 0, 26: 0, 27: 0, 28: 0, 29: 0, 30: 0, 31: 0}}\n",
            "{'1_cropped.png': {0: 0.20588235294117646, 1: 0.0, 2: 0.0, 3: 0.0, 4: 0.0, 5: 0.0, 6: 0.0, 7: 0.17647058823529413, 8: 0.029411764705882353, 9: 0.0, 10: 0.0, 11: 0.0, 12: 0.0, 13: 0.0, 14: 0.0, 15: 0.0, 16: 1.0, 17: 0.0, 18: 0.0, 19: 0.0, 20: 0.0, 21: 0.0, 22: 0.0, 23: 0.0, 24: 0.029411764705882353, 25: 0.0, 26: 0.0, 27: 0.0, 28: 0.0, 29: 0.0, 30: 0.0, 31: 0.0}, '3_cropped.png': {0: 0.4166666666666667, 1: 0.0, 2: 0.0, 3: 0.0, 4: 0.0, 5: 0.0, 6: 0.0, 7: 0.8333333333333334, 8: 0.3333333333333333, 9: 0.0, 10: 0.0, 11: 0.0, 12: 0.0, 13: 0.0, 14: 0.0, 15: 0.0, 16: 0.9166666666666666, 17: 0.0, 18: 0.0, 19: 0.0, 20: 0.0, 21: 0.0, 22: 0.0, 23: 0.0, 24: 1.0, 25: 0.0, 26: 0.0, 27: 0.0, 28: 0.0, 29: 0.0, 30: 0.0, 31: 0.0}, '2_cropped.png': {0: 1.0, 1: 0.0, 2: 0.0, 3: 0.0, 4: 0.0, 5: 0.0, 6: 0.0, 7: 0.0, 8: 0.13793103448275862, 9: 0.0, 10: 0.0, 11: 0.0, 12: 0.0, 13: 0.0, 14: 0.0, 15: 0.0, 16: 0.41379310344827586, 17: 0.0, 18: 0.0, 19: 0.0, 20: 0.0, 21: 0.0, 22: 0.0, 23: 0.2413793103448276, 24: 0.3103448275862069, 25: 0.0, 26: 0.0, 27: 0.0, 28: 0.0, 29: 0.0, 30: 0.0, 31: 0.0}, '0_cropped.png': {0: 0.6666666666666666, 1: 0.0, 2: 0.0, 3: 0.0, 4: 0.0, 5: 0.0, 6: 0.0, 7: 0.0, 8: 0.4166666666666667, 9: 0.0, 10: 0.0, 11: 0.0, 12: 0.0, 13: 0.0, 14: 0.0, 15: 0.0, 16: 0.4166666666666667, 17: 0.0, 18: 0.0, 19: 0.0, 20: 0.0, 21: 0.0, 22: 0.0, 23: 0.08333333333333333, 24: 1.0, 25: 0.0, 26: 0.0, 27: 0.0, 28: 0.0, 29: 0.0, 30: 0.0, 31: 0.0}}\n",
            "1_cropped.png\n"
          ]
        },
        {
          "output_type": "display_data",
          "data": {
            "text/plain": [
              "<Figure size 432x288 with 1 Axes>"
            ],
            "image/png": "[encoded data removed]"
          },
          "metadata": {
            "needs_background": "light"
          }
        },
        {
          "output_type": "display_data",
          "data": {
            "text/plain": [
              "<Figure size 432x288 with 1 Axes>"
            ],
            "image/png": "[encoded data removed]"
          },
          "metadata": {
            "needs_background": "light"
          }
        },
        {
          "output_type": "stream",
          "name": "stdout",
          "text": [
            "3_cropped.png\n"
          ]
        },
        {
          "output_type": "display_data",
          "data": {
            "text/plain": [
              "<Figure size 432x288 with 1 Axes>"
            ],
            "image/png": "[encoded data removed]"
          },
          "metadata": {
            "needs_background": "light"
          }
        },
        {
          "output_type": "display_data",
          "data": {
            "text/plain": [
              "<Figure size 432x288 with 1 Axes>"
            ],
            "image/png": "[encoded data removed]"
          },
          "metadata": {
            "needs_background": "light"
          }
        },
        {
          "output_type": "stream",
          "name": "stdout",
          "text": [
            "2_cropped.png\n"
          ]
        },
        {
          "output_type": "display_data",
          "data": {
            "text/plain": [
              "<Figure size 432x288 with 1 Axes>"
            ],
            "image/png": "[encoded data removed]"
          },
          "metadata": {
            "needs_background": "light"
          }
        },
        {
          "output_type": "display_data",
          "data": {
            "text/plain": [
              "<Figure size 432x288 with 1 Axes>"
            ],
            "image/png": "[encoded data removed]"
          },
          "metadata": {
            "needs_background": "light"
          }
        },
        {
          "output_type": "stream",
          "name": "stdout",
          "text": [
            "0_cropped.png\n"
          ]
        },
        {
          "output_type": "display_data",
          "data": {
            "text/plain": [
              "<Figure size 432x288 with 1 Axes>"
            ],
            "image/png": "[encoded data removed]"
          },
          "metadata": {
            "needs_background": "light"
          }
        },
        {
          "output_type": "display_data",
          "data": {
            "text/plain": [
              "<Figure size 432x288 with 1 Axes>"
            ],
            "image/png": "[encoded data removed]"
          },
          "metadata": {
            "needs_background": "light"
          }
        },
        {
          "output_type": "stream",
          "name": "stdout",
          "text": [
            "{'1_cropped.png': {0: 0.20588235294117646, 1: 0.0, 2: 0.0, 3: 0.0, 4: 0.0, 5: 0.0, 6: 0.0, 7: 0.17647058823529413, 8: 0.029411764705882353, 9: 0.0, 10: 0.0, 11: 0.0, 12: 0.0, 13: 0.0, 14: 0.0, 15: 0.0, 16: 1.0, 17: 0.0, 18: 0.0, 19: 0.0, 20: 0.0, 21: 0.0, 22: 0.0, 23: 0.0, 24: 0.029411764705882353, 25: 0.0, 26: 0.0, 27: 0.0, 28: 0.0, 29: 0.0, 30: 0.0, 31: 0.0}, '3_cropped.png': {0: 0.4166666666666667, 1: 0.0, 2: 0.0, 3: 0.0, 4: 0.0, 5: 0.0, 6: 0.0, 7: 0.8333333333333334, 8: 0.3333333333333333, 9: 0.0, 10: 0.0, 11: 0.0, 12: 0.0, 13: 0.0, 14: 0.0, 15: 0.0, 16: 0.9166666666666666, 17: 0.0, 18: 0.0, 19: 0.0, 20: 0.0, 21: 0.0, 22: 0.0, 23: 0.0, 24: 1.0, 25: 0.0, 26: 0.0, 27: 0.0, 28: 0.0, 29: 0.0, 30: 0.0, 31: 0.0}, '2_cropped.png': {0: 1.0, 1: 0.0, 2: 0.0, 3: 0.0, 4: 0.0, 5: 0.0, 6: 0.0, 7: 0.0, 8: 0.13793103448275862, 9: 0.0, 10: 0.0, 11: 0.0, 12: 0.0, 13: 0.0, 14: 0.0, 15: 0.0, 16: 0.41379310344827586, 17: 0.0, 18: 0.0, 19: 0.0, 20: 0.0, 21: 0.0, 22: 0.0, 23: 0.2413793103448276, 24: 0.3103448275862069, 25: 0.0, 26: 0.0, 27: 0.0, 28: 0.0, 29: 0.0, 30: 0.0, 31: 0.0}, '0_cropped.png': {0: 0.6666666666666666, 1: 0.0, 2: 0.0, 3: 0.0, 4: 0.0, 5: 0.0, 6: 0.0, 7: 0.0, 8: 0.4166666666666667, 9: 0.0, 10: 0.0, 11: 0.0, 12: 0.0, 13: 0.0, 14: 0.0, 15: 0.0, 16: 0.4166666666666667, 17: 0.0, 18: 0.0, 19: 0.0, 20: 0.0, 21: 0.0, 22: 0.0, 23: 0.08333333333333333, 24: 1.0, 25: 0.0, 26: 0.0, 27: 0.0, 28: 0.0, 29: 0.0, 30: 0.0, 31: 0.0}}\n",
            "#######################################\n",
            "result :  {'1_cropped.png': {'1_cropped.png': 0.20631873817024338, '3_cropped.png': 1.1667679315130073, '2_cropped.png': 0.9647323767574593, '0_cropped.png': 1.2568390937015035}, '3_cropped.png': {'1_cropped.png': 1.2125680368399936, '3_cropped.png': 0.632211482041169, '2_cropped.png': 1.5276645726083737, '0_cropped.png': 1.2282050538574525}, '2_cropped.png': {'1_cropped.png': 1.1207568481297616, '3_cropped.png': 1.261578321433557, '2_cropped.png': 0.8205831347489922, '0_cropped.png': 1.2153174596696033}, '0_cropped.png': {'1_cropped.png': 1.5066892369521343, '3_cropped.png': 1.3254978100489054, '2_cropped.png': 0.8869261136275574, '0_cropped.png': 0.6009252125773316}}\n",
            "-- 1_cropped.png :  [('1_cropped.png', 0.20631873817024338), ('2_cropped.png', 0.9647323767574593), ('3_cropped.png', 1.1667679315130073), ('0_cropped.png', 1.2568390937015035)]\n",
            "-- closest point :  ('1_cropped.png', 0.20631873817024338)\n",
            "-- 3_cropped.png :  [('3_cropped.png', 0.632211482041169), ('1_cropped.png', 1.2125680368399936), ('0_cropped.png', 1.2282050538574525), ('2_cropped.png', 1.5276645726083737)]\n",
            "-- closest point :  ('3_cropped.png', 0.632211482041169)\n",
            "-- 2_cropped.png :  [('2_cropped.png', 0.8205831347489922), ('1_cropped.png', 1.1207568481297616), ('0_cropped.png', 1.2153174596696033), ('3_cropped.png', 1.261578321433557)]\n",
            "-- closest point :  ('2_cropped.png', 0.8205831347489922)\n",
            "-- 0_cropped.png :  [('0_cropped.png', 0.6009252125773316), ('2_cropped.png', 0.8869261136275574), ('3_cropped.png', 1.3254978100489054), ('1_cropped.png', 1.5066892369521343)]\n",
            "-- closest point :  ('0_cropped.png', 0.6009252125773316)\n",
            "\n"
          ]
        }
      ]
    }
  ]
}